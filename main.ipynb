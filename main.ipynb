{
 "cells": [
  {
   "cell_type": "code",
   "execution_count": 1,
   "metadata": {},
   "outputs": [
    {
     "ename": "ImportError",
     "evalue": "Missing required dependencies ['numpy']",
     "output_type": "error",
     "traceback": [
      "\u001b[1;31m---------------------------------------------------------------------------\u001b[0m",
      "\u001b[1;31mImportError\u001b[0m                               Traceback (most recent call last)",
      "\u001b[1;32m<ipython-input-1-c445a15ef9de>\u001b[0m in \u001b[0;36m<module>\u001b[1;34m()\u001b[0m\n\u001b[1;32m----> 1\u001b[1;33m \u001b[1;32mimport\u001b[0m \u001b[0mpandas\u001b[0m \u001b[1;32mas\u001b[0m \u001b[0mpand\u001b[0m\u001b[1;33m\u001b[0m\u001b[0m\n\u001b[0m\u001b[0;32m      2\u001b[0m \u001b[1;32mimport\u001b[0m \u001b[0mnumpy\u001b[0m \u001b[1;32mas\u001b[0m \u001b[0mnump\u001b[0m\u001b[1;33m\u001b[0m\u001b[0m\n\u001b[0;32m      3\u001b[0m \u001b[1;32mfrom\u001b[0m \u001b[0mmatplotlib\u001b[0m \u001b[1;32mimport\u001b[0m \u001b[0mpyplot\u001b[0m \u001b[1;32mas\u001b[0m \u001b[0mplt\u001b[0m\u001b[1;33m\u001b[0m\u001b[0m\n\u001b[0;32m      4\u001b[0m \u001b[1;32mfrom\u001b[0m \u001b[0msklearn\u001b[0m\u001b[1;33m.\u001b[0m\u001b[0mmodel_selection\u001b[0m \u001b[1;32mimport\u001b[0m \u001b[0mtrain_test_split\u001b[0m\u001b[1;33m\u001b[0m\u001b[0m\n",
      "\u001b[1;32m~\\Anaconda3\\lib\\site-packages\\pandas\\__init__.py\u001b[0m in \u001b[0;36m<module>\u001b[1;34m()\u001b[0m\n\u001b[0;32m     17\u001b[0m \u001b[1;32mif\u001b[0m \u001b[0mmissing_dependencies\u001b[0m\u001b[1;33m:\u001b[0m\u001b[1;33m\u001b[0m\u001b[0m\n\u001b[0;32m     18\u001b[0m     raise ImportError(\n\u001b[1;32m---> 19\u001b[1;33m         \"Missing required dependencies {0}\".format(missing_dependencies))\n\u001b[0m\u001b[0;32m     20\u001b[0m \u001b[1;32mdel\u001b[0m \u001b[0mhard_dependencies\u001b[0m\u001b[1;33m,\u001b[0m \u001b[0mdependency\u001b[0m\u001b[1;33m,\u001b[0m \u001b[0mmissing_dependencies\u001b[0m\u001b[1;33m\u001b[0m\u001b[0m\n\u001b[0;32m     21\u001b[0m \u001b[1;33m\u001b[0m\u001b[0m\n",
      "\u001b[1;31mImportError\u001b[0m: Missing required dependencies ['numpy']"
     ]
    }
   ],
   "source": [
    "import pandas as pand\n",
    "import numpy as nump\n",
    "from matplotlib import pyplot as plt\n",
    "from sklearn.model_selection import train_test_split"
   ]
  },
  {
   "cell_type": "code",
   "execution_count": 2,
   "metadata": {},
   "outputs": [],
   "source": [
    "def load_data():\n",
    "    data_frame=pand.read_csv(\"wdbc.csv\",header=None)\n",
    "    data_frame.drop(0,axis=1,inplace=True)\n",
    "    data_frame[1].replace(\"B\",0,inplace=True)\n",
    "    data_frame[1].replace(\"M\",1,inplace=True)\n",
    "    return data_frame"
   ]
  },
  {
   "cell_type": "code",
   "execution_count": 3,
   "metadata": {},
   "outputs": [],
   "source": [
    "#initializing the wghts\n",
    "def initialize(m):\n",
    "#m equals the no. of training examples    \n",
    "    wghts = nump.zeros((m,1))\n",
    "    bias = 0\n",
    "    \n",
    "    return wghts , bias"
   ]
  },
  {
   "cell_type": "code",
   "execution_count": 4,
   "metadata": {},
   "outputs": [],
   "source": [
    "#Sigmoid Fuction\n",
    "def sigmoid_function(Z):\n",
    "    return 1/(1 + nump.exp(- Z))"
   ]
  },
  {
   "cell_type": "code",
   "execution_count": 5,
   "metadata": {},
   "outputs": [],
   "source": [
    "#Calculating the Cost and gradients\n",
    "def training(X, Y, wghts, bias):\n",
    "    \n",
    "    m = X.shape[1] #Number of training examples\n",
    "    \n",
    "    #calculating the cost, Forward Propagation\n",
    "    Z = nump.dot(wghts.T, X) + bias;    \n",
    "    sigmoid = sigmoid_function(Z)\n",
    "    cost= -(1/m) * nump.sum(Y * nump.log(sigmoid) + (1-Y) * nump.log(1-sigmoid))\n",
    "    \n",
    "    #calculating the gradients to minimize the cost function , Backward Propagation\n",
    "    derived_wghts = (1/m)* nump.dot(X, (sigmoid-Y).T)\n",
    "    derived_bias = (1/m)* nump.sum(sigmoid-Y)\n",
    "        \n",
    "    gradients = {\"dw\" : derived_wghts, \"db\" : derived_bias}\n",
    "    \n",
    "    return gradients, cost"
   ]
  },
  {
   "cell_type": "code",
   "execution_count": 6,
   "metadata": {},
   "outputs": [],
   "source": [
    "def optimize(X, Y, wghts, bias, epochs, alpha):\n",
    "    \n",
    "    costs=[]\n",
    "    predictions=[]\n",
    "    \n",
    "    for i in range(epochs):\n",
    " \n",
    "        gradients, cost = training(X, Y, wghts, bias)\n",
    "        \n",
    "        derived_wghts = gradients[\"dw\"]\n",
    "        derived_bias = gradients[\"db\"]\n",
    "        \n",
    "        wghts = wghts - alpha * derived_wghts\n",
    "        bias = bias - alpha * derived_bias\n",
    "        \n",
    "        #Storing the cost at interval of every 100 iterations\n",
    "        if i % 10 == 0:\n",
    "            costs.append(cost)\n",
    "            print(\"cost after %i iteration : %f\" % (i, cost))\n",
    "        \n",
    "        prediction = predict(X, wghts, bias)\n",
    "        predictions.append(100 - nump.mean(nump.abs(prediction - Y.T)) * 100)\n",
    "        \n",
    "            \n",
    "    w = {\"w\":wghts, \"b\":bias}\n",
    "    gradients = {\"dw\":derived_wghts, \"db\":derived_bias}\n",
    "    \n",
    "    return w, gradients, costs, predictions"
   ]
  },
  {
   "cell_type": "code",
   "execution_count": 7,
   "metadata": {},
   "outputs": [],
   "source": [
    "def predict(X, wghts, bias):\n",
    "    \n",
    "    m = X.shape[1] #Number of training examples\n",
    "    \n",
    "    y_prediction =  nump.zeros((1,m))\n",
    "    \n",
    "    wghts = wghts.reshape(X.shape[0], 1)\n",
    "    \n",
    "    sigmoid=sigmoid_function(nump.dot(wghts.T, X)+bias)\n",
    "        \n",
    "    for i in range(sigmoid.shape[1]):\n",
    "        \n",
    "        if(sigmoid[0,i]<0.5):\n",
    "            y_prediction[0,i]=0\n",
    "        else:\n",
    "            y_prediction[0,i]=1           \n",
    "    \n",
    "    return y_prediction"
   ]
  },
  {
   "cell_type": "code",
   "execution_count": 8,
   "metadata": {},
   "outputs": [],
   "source": [
    "def logistic_regression(Xtrain, Ytrain, epochs, alpha):\n",
    "    \n",
    "    no_of_dimensions = Xtrain.shape[0] #Number of features\n",
    "    \n",
    "    wghts,bias = initialize(no_of_dimensions)\n",
    "    \n",
    "    parameters, gradients, costs, predictions = optimize(Xtrain, Ytrain, wghts, bias, epochs, alpha) \n",
    "    \n",
    "    wghts = parameters[\"w\"]\n",
    "    bias = parameters[\"b\"]\n",
    "    \n",
    "    d={\"w\":wghts, \"b\":bias, \"costs\": costs, \"predictions\": predictions}\n",
    "    \n",
    "    return d"
   ]
  },
  {
   "cell_type": "code",
   "execution_count": null,
   "metadata": {},
   "outputs": [],
   "source": []
  },
  {
   "cell_type": "code",
   "execution_count": 9,
   "metadata": {},
   "outputs": [
    {
     "ename": "NameError",
     "evalue": "name 'pand' is not defined",
     "output_type": "error",
     "traceback": [
      "\u001b[1;31m---------------------------------------------------------------------------\u001b[0m",
      "\u001b[1;31mNameError\u001b[0m                                 Traceback (most recent call last)",
      "\u001b[1;32m<ipython-input-9-f7c11a6d237c>\u001b[0m in \u001b[0;36m<module>\u001b[1;34m()\u001b[0m\n\u001b[1;32m----> 1\u001b[1;33m \u001b[0minput_data\u001b[0m\u001b[1;33m=\u001b[0m\u001b[0mload_data\u001b[0m\u001b[1;33m(\u001b[0m\u001b[1;33m)\u001b[0m\u001b[1;33m\u001b[0m\u001b[0m\n\u001b[0m\u001b[0;32m      2\u001b[0m \u001b[1;33m\u001b[0m\u001b[0m\n\u001b[0;32m      3\u001b[0m \u001b[0mtrain_test\u001b[0m \u001b[1;33m,\u001b[0m \u001b[0mtest\u001b[0m\u001b[1;33m=\u001b[0m \u001b[0mtrain_test_split\u001b[0m\u001b[1;33m(\u001b[0m\u001b[0minput_data\u001b[0m \u001b[1;33m,\u001b[0m \u001b[0mtest_size\u001b[0m \u001b[1;33m=\u001b[0m \u001b[1;36m0.1\u001b[0m \u001b[1;33m,\u001b[0m \u001b[0mrandom_state\u001b[0m \u001b[1;33m=\u001b[0m \u001b[1;36m50\u001b[0m\u001b[1;33m)\u001b[0m\u001b[1;33m\u001b[0m\u001b[0m\n\u001b[0;32m      4\u001b[0m \u001b[0mtrain\u001b[0m \u001b[1;33m,\u001b[0m \u001b[0mvalidate\u001b[0m\u001b[1;33m=\u001b[0m \u001b[0mtrain_test_split\u001b[0m\u001b[1;33m(\u001b[0m\u001b[0mtrain_test\u001b[0m \u001b[1;33m,\u001b[0m \u001b[0mtest_size\u001b[0m \u001b[1;33m=\u001b[0m \u001b[1;33m(\u001b[0m\u001b[1;36m1\u001b[0m\u001b[1;33m/\u001b[0m\u001b[1;36m9\u001b[0m\u001b[1;33m)\u001b[0m \u001b[1;33m,\u001b[0m \u001b[0mrandom_state\u001b[0m \u001b[1;33m=\u001b[0m \u001b[1;36m50\u001b[0m\u001b[1;33m)\u001b[0m\u001b[1;33m\u001b[0m\u001b[0m\n\u001b[0;32m      5\u001b[0m \u001b[1;33m\u001b[0m\u001b[0m\n",
      "\u001b[1;32m<ipython-input-2-676f9cfe0b37>\u001b[0m in \u001b[0;36mload_data\u001b[1;34m()\u001b[0m\n\u001b[0;32m      1\u001b[0m \u001b[1;32mdef\u001b[0m \u001b[0mload_data\u001b[0m\u001b[1;33m(\u001b[0m\u001b[1;33m)\u001b[0m\u001b[1;33m:\u001b[0m\u001b[1;33m\u001b[0m\u001b[0m\n\u001b[1;32m----> 2\u001b[1;33m     \u001b[0mdata_frame\u001b[0m\u001b[1;33m=\u001b[0m\u001b[0mpand\u001b[0m\u001b[1;33m.\u001b[0m\u001b[0mread_csv\u001b[0m\u001b[1;33m(\u001b[0m\u001b[1;34m\"wdbc.csv\"\u001b[0m\u001b[1;33m,\u001b[0m\u001b[0mheader\u001b[0m\u001b[1;33m=\u001b[0m\u001b[1;32mNone\u001b[0m\u001b[1;33m)\u001b[0m\u001b[1;33m\u001b[0m\u001b[0m\n\u001b[0m\u001b[0;32m      3\u001b[0m     \u001b[0mdata_frame\u001b[0m\u001b[1;33m.\u001b[0m\u001b[0mdrop\u001b[0m\u001b[1;33m(\u001b[0m\u001b[1;36m0\u001b[0m\u001b[1;33m,\u001b[0m\u001b[0maxis\u001b[0m\u001b[1;33m=\u001b[0m\u001b[1;36m1\u001b[0m\u001b[1;33m,\u001b[0m\u001b[0minplace\u001b[0m\u001b[1;33m=\u001b[0m\u001b[1;32mTrue\u001b[0m\u001b[1;33m)\u001b[0m\u001b[1;33m\u001b[0m\u001b[0m\n\u001b[0;32m      4\u001b[0m     \u001b[0mdata_frame\u001b[0m\u001b[1;33m[\u001b[0m\u001b[1;36m1\u001b[0m\u001b[1;33m]\u001b[0m\u001b[1;33m.\u001b[0m\u001b[0mreplace\u001b[0m\u001b[1;33m(\u001b[0m\u001b[1;34m\"B\"\u001b[0m\u001b[1;33m,\u001b[0m\u001b[1;36m0\u001b[0m\u001b[1;33m,\u001b[0m\u001b[0minplace\u001b[0m\u001b[1;33m=\u001b[0m\u001b[1;32mTrue\u001b[0m\u001b[1;33m)\u001b[0m\u001b[1;33m\u001b[0m\u001b[0m\n\u001b[0;32m      5\u001b[0m     \u001b[0mdata_frame\u001b[0m\u001b[1;33m[\u001b[0m\u001b[1;36m1\u001b[0m\u001b[1;33m]\u001b[0m\u001b[1;33m.\u001b[0m\u001b[0mreplace\u001b[0m\u001b[1;33m(\u001b[0m\u001b[1;34m\"M\"\u001b[0m\u001b[1;33m,\u001b[0m\u001b[1;36m1\u001b[0m\u001b[1;33m,\u001b[0m\u001b[0minplace\u001b[0m\u001b[1;33m=\u001b[0m\u001b[1;32mTrue\u001b[0m\u001b[1;33m)\u001b[0m\u001b[1;33m\u001b[0m\u001b[0m\n",
      "\u001b[1;31mNameError\u001b[0m: name 'pand' is not defined"
     ]
    }
   ],
   "source": [
    "input_data=load_data()\n",
    "\n",
    "train_test , test= train_test_split(input_data , test_size = 0.1 , random_state = 50)\n",
    "train , validate= train_test_split(train_test , test_size = (1/9) , random_state = 50)\n",
    "\n",
    "x_train = train.loc[:, 2:31]\n",
    "y_train = train.loc[:, 1]\n",
    "print(y_train)\n",
    "x_val   = validate.loc[:, 2:31]\n",
    "y_val   = validate.loc[:, 1]\n",
    "print(y_val)\n",
    "x_test  = test.loc[:, 2:31]\n",
    "y_test  = test.loc[:, 1]\n",
    "print(y_test)\n",
    "\n",
    "\n",
    "x_train = nump.asarray(x_train)\n",
    "y_train = nump.asarray(y_train)\n",
    "x_val   = nump.asarray(x_val)\n",
    "y_val   = nump.asarray(y_val)\n",
    "x_test  = nump.asarray(x_test)\n",
    "y_test  = nump.asarray(y_test)\n",
    "\n",
    "mean_train  = nump.mean(x_train, axis = 0)\n",
    "std_train   = nump.std(x_train, axis = 0)\n",
    "mean_val    = nump.mean(x_val, axis = 0)\n",
    "std_val     = nump.std(x_val, axis = 0)\n",
    "mean_test   = nump.mean(x_test, axis = 0)\n",
    "std_test    = nump.std(x_test, axis = 0)\n",
    "\n",
    "x_train = (x_train - mean_train) / std_train\n",
    "x_val = (x_val - mean_val) / std_val\n",
    "x_test = (x_test - mean_test) / std_test\n"
   ]
  },
  {
   "cell_type": "code",
   "execution_count": 10,
   "metadata": {},
   "outputs": [
    {
     "ename": "NameError",
     "evalue": "name 'x_train' is not defined",
     "output_type": "error",
     "traceback": [
      "\u001b[1;31m---------------------------------------------------------------------------\u001b[0m",
      "\u001b[1;31mNameError\u001b[0m                                 Traceback (most recent call last)",
      "\u001b[1;32m<ipython-input-10-b7311a448e95>\u001b[0m in \u001b[0;36m<module>\u001b[1;34m()\u001b[0m\n\u001b[1;32m----> 1\u001b[1;33m \u001b[0mregression_model\u001b[0m \u001b[1;33m=\u001b[0m \u001b[0mlogistic_regression\u001b[0m\u001b[1;33m(\u001b[0m\u001b[0mx_train\u001b[0m\u001b[1;33m.\u001b[0m\u001b[0mT\u001b[0m\u001b[1;33m,\u001b[0m \u001b[0my_train\u001b[0m\u001b[1;33m.\u001b[0m\u001b[0mT\u001b[0m\u001b[1;33m,\u001b[0m \u001b[0mepochs\u001b[0m\u001b[1;33m=\u001b[0m\u001b[1;36m500\u001b[0m\u001b[1;33m,\u001b[0m\u001b[0malpha\u001b[0m \u001b[1;33m=\u001b[0m \u001b[1;36m0.01\u001b[0m\u001b[1;33m)\u001b[0m\u001b[1;33m\u001b[0m\u001b[0m\n\u001b[0m\u001b[0;32m      2\u001b[0m \u001b[1;33m\u001b[0m\u001b[0m\n\u001b[0;32m      3\u001b[0m \u001b[0mcosts\u001b[0m\u001b[1;33m=\u001b[0m\u001b[0mregression_model\u001b[0m\u001b[1;33m[\u001b[0m\u001b[1;34m\"costs\"\u001b[0m\u001b[1;33m]\u001b[0m\u001b[1;33m\u001b[0m\u001b[0m\n\u001b[0;32m      4\u001b[0m \u001b[0mwghts\u001b[0m\u001b[1;33m=\u001b[0m\u001b[0mregression_model\u001b[0m\u001b[1;33m[\u001b[0m\u001b[1;34m\"w\"\u001b[0m\u001b[1;33m]\u001b[0m\u001b[1;33m\u001b[0m\u001b[0m\n\u001b[0;32m      5\u001b[0m \u001b[0mbias\u001b[0m\u001b[1;33m=\u001b[0m\u001b[0mregression_model\u001b[0m\u001b[1;33m[\u001b[0m\u001b[1;34m\"b\"\u001b[0m\u001b[1;33m]\u001b[0m\u001b[1;33m\u001b[0m\u001b[0m\n",
      "\u001b[1;31mNameError\u001b[0m: name 'x_train' is not defined"
     ]
    }
   ],
   "source": [
    "regression_model = logistic_regression(x_train.T, y_train.T, epochs=500,alpha = 0.01)\n",
    "\n",
    "costs=regression_model[\"costs\"]\n",
    "wghts=regression_model[\"w\"]\n",
    "bias=regression_model[\"b\"]\n",
    "predictions=regression_model[\"predictions\"]\n",
    "\n",
    "#Drawing the plot between cost and number of iterations\n",
    "plt.plot(costs)\n",
    "plt.title(\"Cost vs Number of Iterations\")\n",
    "plt.xlabel(\"Number of Iterations ( * 10)\")\n",
    "plt.ylabel(\"Cost\")\n"
   ]
  },
  {
   "cell_type": "code",
   "execution_count": 11,
   "metadata": {},
   "outputs": [
    {
     "ename": "NameError",
     "evalue": "name 'plt' is not defined",
     "output_type": "error",
     "traceback": [
      "\u001b[1;31m---------------------------------------------------------------------------\u001b[0m",
      "\u001b[1;31mNameError\u001b[0m                                 Traceback (most recent call last)",
      "\u001b[1;32m<ipython-input-11-5f86f0ab95ab>\u001b[0m in \u001b[0;36m<module>\u001b[1;34m()\u001b[0m\n\u001b[0;32m      1\u001b[0m \u001b[1;31m#Drawing the plot between cost and number of iterations\u001b[0m\u001b[1;33m\u001b[0m\u001b[1;33m\u001b[0m\u001b[0m\n\u001b[1;32m----> 2\u001b[1;33m \u001b[0mplt\u001b[0m\u001b[1;33m.\u001b[0m\u001b[0mplot\u001b[0m\u001b[1;33m(\u001b[0m\u001b[0mpredictions\u001b[0m\u001b[1;33m)\u001b[0m\u001b[1;33m\u001b[0m\u001b[0m\n\u001b[0m\u001b[0;32m      3\u001b[0m \u001b[0mplt\u001b[0m\u001b[1;33m.\u001b[0m\u001b[0mtitle\u001b[0m\u001b[1;33m(\u001b[0m\u001b[1;34m\"Predtictions vs Number of Iterations\"\u001b[0m\u001b[1;33m)\u001b[0m\u001b[1;33m\u001b[0m\u001b[0m\n\u001b[0;32m      4\u001b[0m \u001b[1;31m##Drawing the plot between cost and number of iterations\u001b[0m\u001b[1;33m\u001b[0m\u001b[1;33m\u001b[0m\u001b[0m\n\u001b[0;32m      5\u001b[0m \u001b[0mplt\u001b[0m\u001b[1;33m.\u001b[0m\u001b[0mtitle\u001b[0m\u001b[1;33m(\u001b[0m\u001b[1;34m\"Predictions vs Number of Iterations\"\u001b[0m\u001b[1;33m)\u001b[0m\u001b[1;33m\u001b[0m\u001b[0m\n",
      "\u001b[1;31mNameError\u001b[0m: name 'plt' is not defined"
     ]
    }
   ],
   "source": [
    "#Drawing the plot between cost and number of iterations\n",
    "plt.plot(predictions)\n",
    "plt.title(\"Predtictions vs Number of Iterations\")\n",
    "##Drawing the plot between cost and number of iterations\n",
    "plt.title(\"Predictions vs Number of Iterations\")\n",
    "plt.xlabel(\"Number of Iterations ( * 10)\")\n",
    "plt.ylabel(\"predictions\")"
   ]
  },
  {
   "cell_type": "code",
   "execution_count": 12,
   "metadata": {},
   "outputs": [
    {
     "ename": "NameError",
     "evalue": "name 'x_train' is not defined",
     "output_type": "error",
     "traceback": [
      "\u001b[1;31m---------------------------------------------------------------------------\u001b[0m",
      "\u001b[1;31mNameError\u001b[0m                                 Traceback (most recent call last)",
      "\u001b[1;32m<ipython-input-12-6bc27ca63b24>\u001b[0m in \u001b[0;36m<module>\u001b[1;34m()\u001b[0m\n\u001b[1;32m----> 1\u001b[1;33m \u001b[0mprediction_train\u001b[0m \u001b[1;33m=\u001b[0m \u001b[0mpredict\u001b[0m\u001b[1;33m(\u001b[0m\u001b[0mx_train\u001b[0m\u001b[1;33m.\u001b[0m\u001b[0mT\u001b[0m\u001b[1;33m,\u001b[0m \u001b[0mwghts\u001b[0m\u001b[1;33m,\u001b[0m \u001b[0mbias\u001b[0m\u001b[1;33m)\u001b[0m\u001b[1;33m\u001b[0m\u001b[0m\n\u001b[0m\u001b[0;32m      2\u001b[0m \u001b[0mprediction_test\u001b[0m \u001b[1;33m=\u001b[0m \u001b[0mpredict\u001b[0m\u001b[1;33m(\u001b[0m\u001b[0mx_test\u001b[0m\u001b[1;33m.\u001b[0m\u001b[0mT\u001b[0m\u001b[1;33m,\u001b[0m \u001b[0mwghts\u001b[0m\u001b[1;33m,\u001b[0m \u001b[0mbias\u001b[0m\u001b[1;33m)\u001b[0m\u001b[1;33m\u001b[0m\u001b[0m\n\u001b[0;32m      3\u001b[0m \u001b[0mprediction_val\u001b[0m \u001b[1;33m=\u001b[0m \u001b[0mpredict\u001b[0m\u001b[1;33m(\u001b[0m\u001b[0mx_val\u001b[0m\u001b[1;33m.\u001b[0m\u001b[0mT\u001b[0m\u001b[1;33m,\u001b[0m \u001b[0mwghts\u001b[0m\u001b[1;33m,\u001b[0m\u001b[0mbias\u001b[0m\u001b[1;33m)\u001b[0m\u001b[1;33m\u001b[0m\u001b[0m\n\u001b[0;32m      4\u001b[0m \u001b[1;33m\u001b[0m\u001b[0m\n\u001b[0;32m      5\u001b[0m \u001b[0mprint\u001b[0m\u001b[1;33m(\u001b[0m\u001b[1;34m\"\\n Train accuracy: {} %\"\u001b[0m\u001b[1;33m.\u001b[0m\u001b[0mformat\u001b[0m\u001b[1;33m(\u001b[0m\u001b[1;36m100\u001b[0m \u001b[1;33m-\u001b[0m \u001b[0mnump\u001b[0m\u001b[1;33m.\u001b[0m\u001b[0mmean\u001b[0m\u001b[1;33m(\u001b[0m\u001b[0mnump\u001b[0m\u001b[1;33m.\u001b[0m\u001b[0mabs\u001b[0m\u001b[1;33m(\u001b[0m\u001b[0mprediction_train\u001b[0m \u001b[1;33m-\u001b[0m \u001b[0my_train\u001b[0m\u001b[1;33m.\u001b[0m\u001b[0mT\u001b[0m\u001b[1;33m)\u001b[0m\u001b[1;33m)\u001b[0m \u001b[1;33m*\u001b[0m \u001b[1;36m100\u001b[0m\u001b[1;33m)\u001b[0m\u001b[1;33m)\u001b[0m\u001b[1;33m\u001b[0m\u001b[0m\n",
      "\u001b[1;31mNameError\u001b[0m: name 'x_train' is not defined"
     ]
    }
   ],
   "source": [
    "prediction_train = predict(x_train.T, wghts, bias)\n",
    "prediction_test = predict(x_test.T, wghts, bias)\n",
    "prediction_val = predict(x_val.T, wghts,bias)\n",
    "\n",
    "print(\"\\n Train accuracy: {} %\".format(100 - nump.mean(nump.abs(prediction_train - y_train.T)) * 100))\n",
    "print(\"\\n Validation Data accuracy: {} %\".format(100 - nump.mean(nump.abs(prediction_val - y_val.T)) * 100)) \n",
    "print(\"\\n Test accuracy: {} %\".format(100 - nump.mean(nump.abs(prediction_test - y_test.T)) * 100))\n",
    "\n",
    "acc_num=0\n",
    "acc_den=0\n",
    "pre_num=0\n",
    "pre_den=0\n",
    "rec_num=0\n",
    "rec_den=0\n",
    "\n",
    "for i in range (x_test.shape[0]):\n",
    "    print('Actual ', y_test[i],' Predicted ', prediction_test.T[i])\n",
    "    x=str(prediction_test.T[i])\n",
    "    if(str(y_test[i]) == x[1]):\n",
    "        acc_num+=1\n",
    "    acc_den+=1\n",
    "    if(x[1] == '1'):\n",
    "        pre_den+=1\n",
    "        if(y_test[i] == 1):\n",
    "            pre_num+=1\n",
    "    \n",
    "    if(y_test[i] == 1):\n",
    "        rec_den+=1\n",
    "        if(x[1] == '1'):\n",
    "            rec_num+=1\n",
    "\n",
    "accuracy = acc_num / acc_den*100\n",
    "precision = pre_num / pre_den*100\n",
    "recall = rec_num / rec_den*100\n",
    "fmeasure = 2 * (recall *precision) / (recall + precision)\n",
    "\n",
    "\n",
    "print(accuracy ,\" \", precision ,\" \" , recall , \" \" , fmeasure)\n",
    "    \n"
   ]
  },
  {
   "cell_type": "code",
   "execution_count": null,
   "metadata": {},
   "outputs": [],
   "source": []
  },
  {
   "cell_type": "code",
   "execution_count": null,
   "metadata": {},
   "outputs": [],
   "source": []
  },
  {
   "cell_type": "code",
   "execution_count": null,
   "metadata": {},
   "outputs": [],
   "source": []
  },
  {
   "cell_type": "code",
   "execution_count": null,
   "metadata": {},
   "outputs": [],
   "source": []
  },
  {
   "cell_type": "code",
   "execution_count": null,
   "metadata": {},
   "outputs": [],
   "source": []
  }
 ],
 "metadata": {
  "kernelspec": {
   "display_name": "Python 3",
   "language": "python",
   "name": "python3"
  },
  "language_info": {
   "codemirror_mode": {
    "name": "ipython",
    "version": 3
   },
   "file_extension": ".py",
   "mimetype": "text/x-python",
   "name": "python",
   "nbconvert_exporter": "python",
   "pygments_lexer": "ipython3",
   "version": "3.6.5"
  }
 },
 "nbformat": 4,
 "nbformat_minor": 2
}
